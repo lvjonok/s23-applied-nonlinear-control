{
 "cells": [
  {
   "cell_type": "code",
   "execution_count": 1,
   "metadata": {
    "scrolled": true,
    "slideshow": {
     "slide_type": "notes"
    }
   },
   "outputs": [
    {
     "name": "stdout",
     "output_type": "stream",
     "text": [
      "Requirement already satisfied: sympy in ./venv/lib/python3.10/site-packages (1.11.1)\r\n",
      "Requirement already satisfied: mpmath>=0.19 in ./venv/lib/python3.10/site-packages (from sympy) (1.3.0)\r\n"
     ]
    }
   ],
   "source": [
    "!pip3 install sympy\n",
    "from sympy import *"
   ]
  },
  {
   "cell_type": "markdown",
   "metadata": {
    "slideshow": {
     "slide_type": "slide"
    }
   },
   "source": [
    "## Idea recap - Feedback linearization of MIMO systems\n",
    "\n",
    "$$\n",
    "% \\begin{align*}\n",
    "    \\dot{\\mathbf{x}} = \\mathbf{f}(\\mathbf{x}) + \\mathbf{G}(\\mathbf{x})\\mathbf{u} \\\\\n",
    "    \\mathbf{y} = \\mathbf{h}(\\mathbf{x})\n",
    "% \\end{align*}\n",
    "$$\n",
    "\n",
    "where:\n",
    "* $\\mathbf{x} \\in \\mathbb{R}^n$ is state of the system\n",
    "\n",
    "* $\\mathbf{f}(\\mathbf{x}) \\in \\mathbb{R}^n$ nonlinear smooth function of state evolution (vector field)\n",
    "\n",
    "* $\\mathbf{G}(\\mathbf{x}) \\in \\mathbb{R}^{n \\times m}$ nonlinear smooth input matrix\n",
    "\n",
    "\n",
    "Constraints:\n",
    "\n",
    "* square systems - # of inputs matches # of outputs"
   ]
  },
  {
   "cell_type": "markdown",
   "metadata": {
    "slideshow": {
     "slide_type": "slide"
    }
   },
   "source": [
    "# Mathematical tools\n"
   ]
  },
  {
   "cell_type": "markdown",
   "metadata": {
    "slideshow": {
     "slide_type": "subslide"
    }
   },
   "source": [
    "\n",
    "## Lie derivative\n",
    "\n",
    "Let $h: \\mathbf{R}^n \\rightarrow \\mathbf{R}$ be a smooth scalar function, and $f: \\mathbf{R}^n \\rightarrow \\mathbf{R}^n$ be a smooth vector field on $\\mathbf{R}^n$,\n",
    "then the Lie derivative of $h$ with respect to $\\mathbf{f}$ is a scalar function defined by $L_{\\mathbf{f}} h = \\nabla h \\cdot \\mathbf{f}$\n",
    "\n",
    "The Lie derivative is directional derivative of $h$ along the direction of vector $\\mathbf{f}$.\n"
   ]
  },
  {
   "cell_type": "markdown",
   "metadata": {},
   "source": [
    "\n",
    "## Repeated Lie derivative\n",
    "\n",
    "Repeated Lie derivatives can be defined recursively\n",
    "\n",
    "$$L_{\\mathbf{f}^0}h = h$$\n",
    "\n",
    "$$L_{\\mathbf{f}^i}h = L_{\\mathbf{f}} (L_{\\mathbf{f}^{i-1}}h)$$\n"
   ]
  },
  {
   "cell_type": "markdown",
   "metadata": {
    "slideshow": {
     "slide_type": "subslide"
    }
   },
   "source": [
    "## Relevance for dynamic systems\n",
    "\n",
    "$$\n",
    "\\begin{align*}\n",
    "    \\mathbf{\\dot{x}} = \\mathbf{f(x)} \\\\\n",
    "    y = h(\\mathbf{x})\n",
    "\\end{align*}\n",
    "$$\n",
    "\n",
    "Derivatives of output:\n",
    "\n",
    "$$\n",
    "\\begin{align*}\n",
    "    \\dot{y} = \\frac{\\partial{h}}{\\partial{\\mathbf{x}}} \\mathbf{\\dot{x}} = L_{\\mathbf{f}} h \\\\\n",
    "    \\ddot{y} = \\frac{L_{\\mathbf{f}} h}{\\partial{\\mathbf{x}}} \\mathbf{\\dot{x}} = L_{\\mathbf{f}^2} h\n",
    "\\end{align*}\n",
    "$$"
   ]
  },
  {
   "cell_type": "code",
   "execution_count": 2,
   "metadata": {
    "slideshow": {
     "slide_type": "slide"
    }
   },
   "outputs": [],
   "source": [
    "# lie derivative\n",
    "def lie_diff(h, f, x):\n",
    "    grad = Matrix([h]).jacobian(x)\n",
    "    lf_h = grad * f\n",
    "    return lf_h[0]\n",
    "\n",
    "# lie derivative of n-th order\n",
    "def lie_diff_n(h, f, x, n):\n",
    "    lf_h_k = h\n",
    "    for k in range(n):\n",
    "        lf_h_k = lie_diff(lf_h_k, f, x)\n",
    "\n",
    "    return lf_h_k\n"
   ]
  },
  {
   "cell_type": "code",
   "execution_count": 3,
   "metadata": {
    "slideshow": {
     "slide_type": "notes"
    }
   },
   "outputs": [],
   "source": [
    "# 6.79 equations\n",
    "\n",
    "x = symbols('x1, x2, x3')\n",
    "\n",
    "f = Matrix([-x[0], 2*x[0]*x[1] + sin(x[1]), 2*x[1]])\n",
    "g = Matrix([exp(2*x[1]), 1/2, 0])\n",
    "h = x[2]"
   ]
  },
  {
   "cell_type": "code",
   "execution_count": 4,
   "metadata": {
    "slideshow": {
     "slide_type": "notes"
    }
   },
   "outputs": [
    {
     "data": {
      "text/latex": [
       "$\\displaystyle 2 x_{2}$"
      ],
      "text/plain": [
       "2*x2"
      ]
     },
     "execution_count": 4,
     "metadata": {},
     "output_type": "execute_result"
    }
   ],
   "source": [
    "lie_diff(h, f, x)"
   ]
  },
  {
   "cell_type": "code",
   "execution_count": 5,
   "metadata": {
    "slideshow": {
     "slide_type": "notes"
    }
   },
   "outputs": [
    {
     "data": {
      "text/latex": [
       "$\\displaystyle 0$"
      ],
      "text/plain": [
       "0"
      ]
     },
     "execution_count": 5,
     "metadata": {},
     "output_type": "execute_result"
    }
   ],
   "source": [
    "lie_diff(h, g, x)"
   ]
  },
  {
   "cell_type": "code",
   "execution_count": 6,
   "metadata": {
    "slideshow": {
     "slide_type": "notes"
    }
   },
   "outputs": [
    {
     "data": {
      "text/latex": [
       "$\\displaystyle 1.0$"
      ],
      "text/plain": [
       "1.00000000000000"
      ]
     },
     "execution_count": 6,
     "metadata": {},
     "output_type": "execute_result"
    }
   ],
   "source": [
    "lie_diff(lie_diff(h, f, x), g, x)"
   ]
  },
  {
   "cell_type": "markdown",
   "metadata": {
    "slideshow": {
     "slide_type": "slide"
    }
   },
   "source": [
    "# Relative degree\n",
    "\n",
    "If we need to differentiate the output of a system $r$ times to generate an explicit relationship between the output $\\mathbf{y_i}$ and any input $\\mathbf{u_j}$, the system is said have relative degree $r$.\n",
    "\n",
    "For multi input system can be expressed as following:\n",
    "\n",
    "$$y_i^{(r_i)} = L_{\\mathbf{f}^{r_i}} h_i + \\sum_{j=1}^{m} L_{\\mathbf{g_j}} L_{\\mathbf{f}^{r_i - 1}} h_i u_j$$\n",
    "\n",
    "with $L_{\\mathbf{g_j}} L_{\\mathbf{f}^{r_i - 1}} h_i(\\mathbf{x}) \\neq 0$ for at least one j, in a neighborhood $\\mathbf{\\Omega_i}$ of the point $\\mathbf{x_0}$. \n",
    "\n",
    "* at least one input should appear for smallest $r_i$"
   ]
  },
  {
   "cell_type": "markdown",
   "metadata": {
    "slideshow": {
     "slide_type": "subslide"
    }
   },
   "source": [
    "## What can go wrong? - undefined relative degree\n",
    "\n",
    "Term $L_{\\mathbf{g_j}} L_{\\mathbf{f}^{r_i - 1}} h_i(\\mathbf{x})$ might be zero at $\\mathbf{x_0}$, but nonzero at some points $\\mathbf{x}$ arbitary close to $\\mathbf{x_0}$.\n"
   ]
  },
  {
   "cell_type": "code",
   "execution_count": 7,
   "metadata": {
    "slideshow": {
     "slide_type": "subslide"
    }
   },
   "outputs": [],
   "source": [
    "def relative_degree(y, f, G, x, u):\n",
    "    # returns array r_i with relative degree for each output\n",
    "    r = []\n",
    "    m = len(u[:, 0])\n",
    "\n",
    "    for y_idx, yi in enumerate(y):\n",
    "        for ri in range(1, 10):\n",
    "            expr = lie_diff_n(yi, f, x, ri) \\\n",
    "                + sum([lie_diff(lie_diff_n(yi, f, x, ri - 1), G[:, j], x) * u[j]\n",
    "                      for j in range(m)])\n",
    "            \n",
    "            # check whether any input appears in expression and save it\n",
    "            if any([u[j] in expr.free_symbols for j in range(m)]):\n",
    "                r.append(ri)\n",
    "                break\n",
    "\n",
    "    return r\n"
   ]
  },
  {
   "cell_type": "markdown",
   "metadata": {
    "slideshow": {
     "slide_type": "slide"
    }
   },
   "source": [
    "## Example (6.36)\n",
    "\n",
    "$$\n",
    "% \\begin{align*}\n",
    "    \\mathbf{\\dot{x}} = \\begin{bmatrix}0 && 1 && 0 \\\\ 0 && 0 && 1 \\\\ -a_0 && -a_1 && -a_2 \\end{bmatrix} \\mathbf{x} + \\begin{bmatrix} 0 \\\\ 0 \\\\ 1 \\end{bmatrix} u \\\\\n",
    "    y = \\begin{bmatrix} b_0 && b_1 && 0 \\end{bmatrix} \\begin{bmatrix} x_1 \\\\ x_2 \\\\ x_3 \\end{bmatrix}\n",
    "% \\end{align*}\n",
    "$$"
   ]
  },
  {
   "cell_type": "code",
   "execution_count": 8,
   "metadata": {
    "slideshow": {
     "slide_type": "subslide"
    }
   },
   "outputs": [
    {
     "data": {
      "text/plain": [
       "[2]"
      ]
     },
     "execution_count": 8,
     "metadata": {},
     "output_type": "execute_result"
    }
   ],
   "source": [
    "\n",
    "# system 6.36\n",
    "a = symbols('a0, a1, a2')\n",
    "b = symbols('b0, b1')\n",
    "\n",
    "x = symbols('x1, x2, x3')\n",
    "f = Matrix([\n",
    "    [x[1]],\n",
    "    [x[2]],\n",
    "    [-a[0] * x[0] - a[1] * x[1] - a[2] * x[2]],\n",
    "])\n",
    "u = Matrix([symbols('u1')]).T\n",
    "G = Matrix([\n",
    "    [0],\n",
    "    [0],\n",
    "    [1],\n",
    "])\n",
    "y = Matrix([\n",
    "    [b[0] * x[0] + b[1] * x[1]],\n",
    "])\n",
    "\n",
    "relative_degree(y, f, G, x, u)"
   ]
  },
  {
   "cell_type": "markdown",
   "metadata": {
    "slideshow": {
     "slide_type": "slide"
    }
   },
   "source": [
    "## Example - pendulum\n",
    "\n",
    "$$\n",
    "I\\ddot{\\theta} + b\\dot{\\theta} + mgl \\sin{\\theta} = F \\cos{\\theta}\n",
    "$$"
   ]
  },
  {
   "cell_type": "code",
   "execution_count": 9,
   "metadata": {
    "slideshow": {
     "slide_type": "subslide"
    }
   },
   "outputs": [
    {
     "data": {
      "text/plain": [
       "[2]"
      ]
     },
     "execution_count": 9,
     "metadata": {},
     "output_type": "execute_result"
    }
   ],
   "source": [
    "# pendulum example\n",
    "I, m, g, l, b = symbols('I, m, g, l, b')\n",
    "x = symbols('x1, x2')\n",
    "f = Matrix([\n",
    "    [x[1]],\n",
    "    [(b * x[1] + m * g * l * sin(x[0])) / I]\n",
    "])\n",
    "u = Matrix([symbols('F')]).T\n",
    "G = Matrix([\n",
    "    [0],\n",
    "    [cos(x[0]) / I],\n",
    "])\n",
    "y = Matrix([\n",
    "    [x[0]]\n",
    "])\n",
    "\n",
    "relative_degree(y, f, G, x, u)"
   ]
  },
  {
   "cell_type": "markdown",
   "metadata": {
    "slideshow": {
     "slide_type": "slide"
    }
   },
   "source": [
    "## Example - vessel\n",
    "\n",
    "<p align=\"center\">\n",
    "<img src=\"vessel.PNG\" alt=\"drawing\" hspace=\"300px\" width=\"50%\" style=\"margin:auto\"/>\n",
    "</p>\n",
    "\n",
    "$$\n",
    "\\dot{\\mathbf{x}} =\n",
    "\\begin{bmatrix}\n",
    "\\dot{x}\n",
    "\\\\\n",
    "\\dot{y}\n",
    "\\\\\n",
    "\\dot{\\theta}\n",
    "\\end{bmatrix}\n",
    "=\n",
    "\\begin{bmatrix}\n",
    " \\cos \\theta & -\\sin \\theta & 0\\\\\n",
    " \\sin \\theta & \\cos \\theta & 0\\\\\n",
    " 0 & 0 & 1\\\\\n",
    "\\end{bmatrix}\n",
    "\\begin{bmatrix}\n",
    "v_\\tau\n",
    "\\\\\n",
    "v_n\n",
    "\\\\\n",
    "\\omega\n",
    "\\end{bmatrix}\n",
    "= \\mathbf{R}(\\theta)\\mathbf{u}\n",
    "$$"
   ]
  },
  {
   "cell_type": "code",
   "execution_count": 10,
   "metadata": {
    "slideshow": {
     "slide_type": "subslide"
    }
   },
   "outputs": [
    {
     "data": {
      "text/plain": [
       "[1, 1, 1]"
      ]
     },
     "execution_count": 10,
     "metadata": {},
     "output_type": "execute_result"
    }
   ],
   "source": [
    "# vessel example\n",
    "\n",
    "x = symbols('x1, x2, x3')\n",
    "f = 0\n",
    "h = Matrix([x[0], x[1], x[2]])\n",
    "G = Matrix([\n",
    "    [cos(x[2]), -sin(x[2]), 0],\n",
    "    [sin(x[2]), cos(x[2]), 0],\n",
    "    [0, 0, 1]\n",
    "])\n",
    "u = Matrix([symbols('u1, u2, u3')]).T\n",
    "\n",
    "relative_degree(h, f, G, x, u)"
   ]
  },
  {
   "cell_type": "markdown",
   "metadata": {
    "slideshow": {
     "slide_type": "slide"
    }
   },
   "source": [
    "# Feedback linearization for MIMO systems\n",
    "\n",
    "We found relative degree for each system's output\n",
    "\n",
    "$$y_i^{(r_i)} = L_{\\mathbf{f}}^{r_i} h_i + \\sum_{j=1}^{m} L_{\\mathbf{g_j}} L_{\\mathbf{f}^{r_i - 1}}h_i u_j$$\n",
    "\n",
    "Express in matrix form:\n",
    "\n",
    "$$\n",
    "\\begin{bmatrix}y_1^{(r_1)} \\\\ \\dots \\\\ \\dots \\\\ y_m^{(r_m)}\\end{bmatrix} = \n",
    "\\begin{bmatrix}L_{\\mathbf{f}}^{r_1} h_1(x) \\\\ \\dots \\\\ \\dots \\\\ L_{\\mathbf{f}}^{r_m} h_m(x) \\end{bmatrix}\n",
    "+ \\mathbf{E(x)} \\mathbf{u}\n",
    "$$\n"
   ]
  },
  {
   "cell_type": "markdown",
   "metadata": {
    "slideshow": {
     "slide_type": "subslide"
    }
   },
   "source": [
    "\n",
    "Then input transformation would be:\n",
    "\n",
    "$$\\mathbf{u} = \\mathbf{E}^{-1} \\begin{bmatrix}v_1 - L_{\\mathbf{f}}^{r_1} h_1(x) \\\\ \\dots \\\\ \\dots \\\\ v_m - L_{\\mathbf{f}}^{r_m} h_m(x) \\end{bmatrix}$$\n",
    "\n",
    "$$\\mathbf{u} = -\\mathbf{E}^{-1} \\begin{bmatrix}L_{\\mathbf{f}}^{r_1} h_1(x) \\\\ \\dots \\\\ \\dots \\\\ L_{\\mathbf{f}}^{r_m} h_m(x) \\end{bmatrix} + \\mathbf{E}^{-1} \\mathbf{v} $$\n",
    "\n",
    "$$\\mathbf{u} = \\alpha + \\beta \\mathbf{v} $$"
   ]
  },
  {
   "cell_type": "code",
   "execution_count": 11,
   "metadata": {
    "slideshow": {
     "slide_type": "subslide"
    }
   },
   "outputs": [],
   "source": [
    "def linearize(y, f, G, x, u):\n",
    "    n = len(y)\n",
    "    m = len(u[:, 0])\n",
    "\n",
    "    r = relative_degree(y, f, G, x, u)\n",
    "\n",
    "    E = zeros(n, m)\n",
    "    for i in range(n):\n",
    "        for j in range(m):\n",
    "            E[i, j] = lie_diff(lie_diff_n(y[i], f, x, r[i] - 1), G[:, j], x)\n",
    "\n",
    "    f_e = zeros(m, 1)\n",
    "    for i in range(m):\n",
    "        f_e[i] = lie_diff_n(y[i], f, x, r[i])\n",
    "\n",
    "    try:\n",
    "        einv = E.inv()\n",
    "    except:\n",
    "        print(\"could not find inverse of matrix E\", E)\n",
    "        return None, None\n",
    "\n",
    "    return -einv @ f_e, einv\n"
   ]
  },
  {
   "cell_type": "markdown",
   "metadata": {
    "slideshow": {
     "slide_type": "slide"
    }
   },
   "source": [
    "## Example (6.36)\n",
    "\n",
    "$$\n",
    "% \\begin{align*}\n",
    "    \\mathbf{\\dot{x}} = \\begin{bmatrix}0 && 1 && 0 \\\\ 0 && 0 && 1 \\\\ -a_0 && -a_1 && -a_2 \\end{bmatrix} \\mathbf{x} + \\begin{bmatrix} 0 \\\\ 0 \\\\ 1 \\end{bmatrix} u \\\\\n",
    "    y = \\begin{bmatrix} b_0 && b_1 && 0 \\end{bmatrix} \\begin{bmatrix} x_1 \\\\ x_2 \\\\ x_3 \\end{bmatrix}\n",
    "% \\end{align*}\n",
    "$$\n",
    "\n",
    "Results:\n",
    "\n",
    "$$\n",
    "% \\begin{align*}\n",
    "    \\alpha = \\left[\\begin{matrix}- \\frac{b_{0} x_{3}}{b_{1}} + \\left(- a_{0} x_{1} - a_{1} x_{2} - a_{2} x_{3}\\right)\\end{matrix}\\right] \\\\\n",
    "    \\beta = \\left[\\begin{matrix}\\frac{1}{b_{1}}\\end{matrix}\\right]\n",
    "% \\end{align*}\n",
    "$$"
   ]
  },
  {
   "cell_type": "markdown",
   "metadata": {
    "slideshow": {
     "slide_type": "subslide"
    }
   },
   "source": [
    "## Is it correct?\n",
    "\n",
    "$$\n",
    "\\dot{y} = b_0 x_2 + b_1 x_3\n",
    "$$\n",
    "\n",
    "$$\n",
    "\\ddot{y} = b_0 \\dot{x_2} + b_1 \\dot{x_3} = b_0 x_3 + b_1 (-a_0 x_1 - a_1 x_2 - a_2 x_3 + u)\n",
    "$$\n",
    "\n",
    "Substitute control law: $u = \\alpha + \\beta v$\n",
    "\n",
    "$$\n",
    "\\ddot{y} = v\n",
    "$$"
   ]
  },
  {
   "cell_type": "code",
   "execution_count": 12,
   "metadata": {
    "scrolled": false,
    "slideshow": {
     "slide_type": "subslide"
    }
   },
   "outputs": [
    {
     "name": "stdout",
     "output_type": "stream",
     "text": [
      "Matrix([[-(b0*x3 + b1*(-a0*x1 - a1*x2 - a2*x3))/b1]]) Matrix([[1/b1]])\n"
     ]
    },
    {
     "data": {
      "text/latex": [
       "$\\displaystyle \\left[\\begin{matrix}x_{2}\\\\x_{3}\\\\\\frac{- b_{0} x_{3} + v_{1}}{b_{1}}\\end{matrix}\\right]$"
      ],
      "text/plain": [
       "Matrix([\n",
       "[              x2],\n",
       "[              x3],\n",
       "[(-b0*x3 + v1)/b1]])"
      ]
     },
     "execution_count": 12,
     "metadata": {},
     "output_type": "execute_result"
    }
   ],
   "source": [
    "\n",
    "# system 6.36\n",
    "a = symbols('a0, a1, a2')\n",
    "b = symbols('b0, b1')\n",
    "\n",
    "x = symbols('x1, x2, x3')\n",
    "f = Matrix([\n",
    "    [x[1]],\n",
    "    [x[2]],\n",
    "    [-a[0] * x[0] - a[1] * x[1] - a[2] * x[2]],\n",
    "])\n",
    "u = Matrix([symbols('u1')]).T\n",
    "G = Matrix([\n",
    "    [0],\n",
    "    [0],\n",
    "    [1],\n",
    "])\n",
    "y = Matrix([\n",
    "    [b[0] * x[0] + b[1] * x[1]],\n",
    "])\n",
    "\n",
    "alpha, beta = linearize(y, f, G, x, u)\n",
    "print(alpha, beta)\n",
    "v = Matrix([symbols('v1')]).T\n",
    "\n",
    "control = (G @ (alpha + beta @ v))\n",
    "control.simplify()\n",
    " \n",
    "res = f + control\n",
    "res.simplify()\n",
    "res\n"
   ]
  },
  {
   "cell_type": "markdown",
   "metadata": {
    "slideshow": {
     "slide_type": "slide"
    }
   },
   "source": [
    "## Example - system from `linear_04`\n",
    "\n",
    "$$\n",
    "\\mathbf{\\dot{x}} = \\begin{bmatrix}\\dot{x_1} \\\\ \\dot{x_2} \\end{bmatrix} = \\begin{bmatrix} x_2 + x_1^2 \\\\ -x_1^3 + u \\end{bmatrix}\n",
    "$$\n",
    "\n",
    "Results:\n",
    "\n",
    "$$\n",
    "\\alpha = -x_1^3 - 2 x_1 x_2 \\\\\n",
    "\\beta = 1\n",
    "$$\n"
   ]
  },
  {
   "cell_type": "markdown",
   "metadata": {
    "slideshow": {
     "slide_type": "subslide"
    }
   },
   "source": [
    "\n",
    "Let $y = x_1$, differentiate until input and substitute control law $u = \\alpha + \\beta v$\n",
    "\n",
    "$$\n",
    "% \\begin{align*}\n",
    "    \\dot{y} = x_2 + x_1^2 \\\\\n",
    "    \\ddot{y} = x_1^3 + 2 x_1 x_2 + u \\\\\n",
    "    \\ddot{y} = v\n",
    "% \\end{align*}\n",
    "$$"
   ]
  },
  {
   "cell_type": "code",
   "execution_count": 13,
   "metadata": {
    "slideshow": {
     "slide_type": "subslide"
    }
   },
   "outputs": [
    {
     "name": "stdout",
     "output_type": "stream",
     "text": [
      "Matrix([[x1**3 - 2*x1*(x1**2 + x2)]]) Matrix([[1]])\n"
     ]
    },
    {
     "data": {
      "text/latex": [
       "$\\displaystyle \\left[\\begin{matrix}x_{1}^{2} + x_{2}\\\\v - 2 x_{1}^{3} - 2 x_{1} x_{2}\\end{matrix}\\right]$"
      ],
      "text/plain": [
       "Matrix([\n",
       "[           x1**2 + x2],\n",
       "[v - 2*x1**3 - 2*x1*x2]])"
      ]
     },
     "execution_count": 13,
     "metadata": {},
     "output_type": "execute_result"
    }
   ],
   "source": [
    "# system from linear_04\n",
    "\n",
    "x = symbols('x1, x2')\n",
    "f = Matrix([\n",
    "    [x[1] + x[0]**2],\n",
    "    [-x[0]**3],\n",
    "])\n",
    "u = Matrix([symbols('u')]).T\n",
    "G = Matrix([\n",
    "    [0],\n",
    "    [1],\n",
    "])\n",
    "y = Matrix([\n",
    "    [x[0]],\n",
    "])\n",
    "\n",
    "alpha, beta = linearize(y, f, G, x, u)\n",
    "v = Matrix([symbols('v')]).T\n",
    "print(alpha, beta)\n",
    "control = (G @ (alpha + beta @ v))\n",
    "control.simplify()\n",
    "\n",
    "res = f + control\n",
    "res.simplify()\n",
    "res"
   ]
  },
  {
   "cell_type": "markdown",
   "metadata": {
    "slideshow": {
     "slide_type": "slide"
    }
   },
   "source": [
    "## 2nd example from `linear_04`\n",
    "\n",
    "$$\n",
    "\\begin{bmatrix} \\dot{x}_1 \\\\ \\dot{x}_2 \\end{bmatrix} = \n",
    "\\begin{bmatrix} \n",
    "-x_1 +a x_2 + \\sin{x_1} \\\\ \n",
    "-x_2 \\cos{x_1} \\\\\n",
    "\\end{bmatrix} + \n",
    "\\begin{bmatrix}\n",
    "0 \\\\\n",
    "\\cos{x_1} + b\n",
    "\\end{bmatrix} u\n",
    "$$\n",
    "\n",
    "Results:\n",
    "\n",
    "$$\n",
    "\\alpha = \\left[\\begin{matrix}\\frac{a x_{2} + x_{1} \\cos{\\left(x_{1} \\right)} - x_{1} + \\sin{\\left(x_{1} \\right)} - \\frac{\\sin{\\left(2 x_{1} \\right)}}{2}}{a \\left(b + \\cos{\\left(x_{1} \\right)}\\right)}\\end{matrix}\\right]\n",
    "$$\n",
    "\n",
    "$$\n",
    "\\beta = \\left[\\begin{matrix}\\frac{1}{a \\left(b + \\cos{\\left(x_{1} \\right)}\\right)}\\end{matrix}\\right]\n",
    "$$"
   ]
  },
  {
   "cell_type": "code",
   "execution_count": 46,
   "metadata": {
    "slideshow": {
     "slide_type": "subslide"
    }
   },
   "outputs": [
    {
     "name": "stdout",
     "output_type": "stream",
     "text": [
      "Matrix([[(a*x2 + x1*cos(x1) - x1 + sin(x1) - sin(2*x1)/2)/(a*(b + cos(x1)))]]) Matrix([[1/(a*(b + cos(x1)))]])\n"
     ]
    },
    {
     "data": {
      "text/latex": [
       "$\\displaystyle \\left[\\begin{matrix}a x_{2} - x_{1} + \\sin{\\left(x_{1} \\right)}\\\\\\frac{- a x_{2} \\cos{\\left(x_{1} \\right)} + a x_{2} + v + x_{1} \\cos{\\left(x_{1} \\right)} - x_{1} + \\sin{\\left(x_{1} \\right)} - \\frac{\\sin{\\left(2 x_{1} \\right)}}{2}}{a}\\end{matrix}\\right]$"
      ],
      "text/plain": [
       "Matrix([\n",
       "[                                                   a*x2 - x1 + sin(x1)],\n",
       "[(-a*x2*cos(x1) + a*x2 + v + x1*cos(x1) - x1 + sin(x1) - sin(2*x1)/2)/a]])"
      ]
     },
     "execution_count": 46,
     "metadata": {},
     "output_type": "execute_result"
    }
   ],
   "source": [
    "# system from linear_04\n",
    "\n",
    "x = symbols('x1, x2')\n",
    "a, b = symbols('a, b')\n",
    "f = Matrix([\n",
    "    [-x[0] + a * x[1] + sin(x[0])],\n",
    "    [-x[1] * cos(x[0])],\n",
    "])\n",
    "\n",
    "u = Matrix([symbols('u')]).T\n",
    "G = Matrix([\n",
    "    [0],\n",
    "    [cos(x[0]) + b],\n",
    "])\n",
    "y = Matrix([\n",
    "    [x[0]],\n",
    "])\n",
    "\n",
    "alpha, beta = linearize(y, f, G, x, u)\n",
    "v = Matrix([symbols('v')]).T\n",
    "alpha.simplify()\n",
    "beta.simplify()\n",
    "print(alpha, beta)\n",
    "control = (G @ (alpha + beta @ v))\n",
    "control.simplify()\n",
    "\n",
    "res = f + control\n",
    "res.simplify()\n",
    "res"
   ]
  },
  {
   "cell_type": "markdown",
   "metadata": {
    "slideshow": {
     "slide_type": "slide"
    }
   },
   "source": [
    "## Example - pendulum\n",
    "\n",
    "$$\n",
    "I\\ddot{\\theta} + b\\dot{\\theta} + mgl \\sin{\\theta} = F \\cos{\\theta}\n",
    "$$\n",
    "\n",
    "Results:\n",
    "\n",
    "$$\n",
    "% \\begin{align*}\n",
    "\\alpha = -(b\\dot{\\theta} + mgl \\sin{\\theta}) \\frac{1}{\\cos{\\theta}} \\\\ \n",
    "\\beta = I \\frac{1}{\\cos{\\theta}}\n",
    "% \\end{align*}\n",
    "$$\n",
    "\n",
    "Substitute $F = \\alpha + \\beta v$\n",
    "\n",
    "$$\n",
    "\\ddot{\\theta} = v\n",
    "$$"
   ]
  },
  {
   "cell_type": "code",
   "execution_count": 14,
   "metadata": {
    "slideshow": {
     "slide_type": "subslide"
    }
   },
   "outputs": [
    {
     "name": "stdout",
     "output_type": "stream",
     "text": [
      "Matrix([[-(b*x2 + g*l*m*sin(x1))/cos(x1)]]) Matrix([[I/cos(x1)]])\n"
     ]
    },
    {
     "data": {
      "text/latex": [
       "$\\displaystyle \\left[\\begin{matrix}x_{2}\\\\v_{1}\\end{matrix}\\right]$"
      ],
      "text/plain": [
       "Matrix([\n",
       "[x2],\n",
       "[v1]])"
      ]
     },
     "execution_count": 14,
     "metadata": {},
     "output_type": "execute_result"
    }
   ],
   "source": [
    "# pendulum example\n",
    "I, m, g, l, b = symbols('I, m, g, l, b')\n",
    "x = symbols('x1, x2')\n",
    "f = Matrix([\n",
    "    [x[1]],\n",
    "    [(b * x[1] + m * g * l * sin(x[0])) / I]\n",
    "])\n",
    "u = Matrix([symbols('u1')]).T\n",
    "G = Matrix([\n",
    "    [0],\n",
    "    [cos(x[0]) / I],\n",
    "])\n",
    "y = Matrix([\n",
    "    [x[0]],\n",
    "])\n",
    "\n",
    "alpha, beta = linearize(y, f, G, x, u)\n",
    "print(alpha, beta)\n",
    "v = Matrix([symbols('v1')]).T\n",
    "\n",
    "control = (G @ (alpha + beta @ v))\n",
    "control.simplify()\n",
    "\n",
    "result = f + control\n",
    "result.simplify()\n",
    "\n",
    "result\n"
   ]
  },
  {
   "cell_type": "markdown",
   "metadata": {
    "slideshow": {
     "slide_type": "slide"
    }
   },
   "source": [
    "## Example - vessel\n",
    "\n",
    "$$\n",
    "\\dot{\\mathbf{x}} =\n",
    "\\begin{bmatrix}\n",
    "\\dot{x}\n",
    "\\\\\n",
    "\\dot{y}\n",
    "\\\\\n",
    "\\dot{\\theta}\n",
    "\\end{bmatrix}\n",
    "=\n",
    "\\begin{bmatrix}\n",
    " \\cos \\theta & -\\sin \\theta & 0\\\\\n",
    " \\sin \\theta & \\cos \\theta & 0\\\\\n",
    " 0 & 0 & 1\\\\\n",
    "\\end{bmatrix}\n",
    "\\begin{bmatrix}\n",
    "v_\\tau\n",
    "\\\\\n",
    "v_n\n",
    "\\\\\n",
    "\\omega\n",
    "\\end{bmatrix}\n",
    "= \\mathbf{R}(\\theta)\\mathbf{u}\n",
    "$$\n",
    "\n",
    "Results:\n",
    "\n",
    "$$\n",
    "\\alpha = \\left[\\begin{matrix}0\\\\0\\\\0\\end{matrix}\\right]\n",
    "$$\n",
    "\n",
    "$$\n",
    "\\beta = \\left[\\begin{matrix}\\cos{\\left(\\theta \\right)} & \\sin{\\left(\\theta \\right)} & 0\\\\- \\sin{\\left(\\theta \\right)} & \\cos{\\left(\\theta \\right)} & 0\\\\0 & 0 & 1\\end{matrix}\\right]\n",
    "$$\n",
    "\n",
    "Substitute $\\mathbf{u} = \\mathbf{\\alpha} + \\mathbf{\\beta} \\mathbf{v}$:\n",
    "\n",
    "$$\n",
    "\\mathbf{\\dot{x}} = \\mathbf{v}\n",
    "$$"
   ]
  },
  {
   "cell_type": "code",
   "execution_count": 15,
   "metadata": {
    "slideshow": {
     "slide_type": "subslide"
    }
   },
   "outputs": [
    {
     "name": "stdout",
     "output_type": "stream",
     "text": [
      "Matrix([[0], [0], [0]]) Matrix([[cos(x3), sin(x3), 0], [-sin(x3), cos(x3), 0], [0, 0, 1]])\n"
     ]
    },
    {
     "data": {
      "text/latex": [
       "$\\displaystyle \\left[\\begin{matrix}v_{1}\\\\v_{2}\\\\v_{3}\\end{matrix}\\right]$"
      ],
      "text/plain": [
       "Matrix([\n",
       "[v1],\n",
       "[v2],\n",
       "[v3]])"
      ]
     },
     "execution_count": 15,
     "metadata": {},
     "output_type": "execute_result"
    }
   ],
   "source": [
    "# vessel example\n",
    "\n",
    "x = symbols('x1, x2, x3')\n",
    "f = Matrix([\n",
    "    [0],\n",
    "    [0],\n",
    "    [0],\n",
    "])\n",
    "h = Matrix([\n",
    "    [x[0]],\n",
    "    [x[1]],\n",
    "    [x[2]],\n",
    "])\n",
    "G = Matrix([\n",
    "    [cos(x[2]), -sin(x[2]), 0],\n",
    "    [sin(x[2]), cos(x[2]), 0],\n",
    "    [0, 0, 1]\n",
    "])\n",
    "u = Matrix([symbols('u1, u2, u3')]).T\n",
    "\n",
    "a, b = linearize(h, f, G, x, u)\n",
    "a.simplify()\n",
    "b.simplify()\n",
    "print(a, b)\n",
    "v = Matrix([symbols('v1, v2, v3')]).T\n",
    "\n",
    "control = (G @ (a + b @ v))\n",
    "control.simplify()\n",
    "\n",
    "f + control\n"
   ]
  },
  {
   "cell_type": "markdown",
   "metadata": {
    "slideshow": {
     "slide_type": "slide"
    }
   },
   "source": [
    "# What might go wrong?\n",
    "\n",
    "$\\mathbf{E}$ might not be invertible.\n",
    "\n",
    "Two solutions:\n",
    "\n",
    "1. Redefining inputs: dynamic extension\n",
    "1. Dedefining outputs: system inversion\n",
    "\n",
    "But it's a different story."
   ]
  }
 ],
 "metadata": {
  "kernelspec": {
   "display_name": "Python 3 (ipykernel)",
   "language": "python",
   "name": "python3"
  },
  "language_info": {
   "codemirror_mode": {
    "name": "ipython",
    "version": 3
   },
   "file_extension": ".py",
   "mimetype": "text/x-python",
   "name": "python",
   "nbconvert_exporter": "python",
   "pygments_lexer": "ipython3",
   "version": "3.10.6"
  }
 },
 "nbformat": 4,
 "nbformat_minor": 1
}
